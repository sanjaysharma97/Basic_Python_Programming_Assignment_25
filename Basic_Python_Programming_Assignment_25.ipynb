{
 "cells": [
  {
   "cell_type": "markdown",
   "id": "3f7c9f67",
   "metadata": {},
   "source": [
    "# Question1 Create a function that takes three integer arguments (a, b, c) and returns the amount of integers which are of equal value.\n",
    "Examples\n",
    "equal(3, 4, 3) ➞ 2\n",
    "equal(1, 1, 1) ➞ 3\n",
    "equal(3, 4, 1) ➞ 0\n",
    "Notes\n",
    "Your function must return 0, 2 or 3.\n",
    "\n",
    "ANSWER-"
   ]
  },
  {
   "cell_type": "code",
   "execution_count": 1,
   "id": "f7a64934",
   "metadata": {},
   "outputs": [
    {
     "name": "stdout",
     "output_type": "stream",
     "text": [
      "enter a number: 3\n",
      "enter a number: 4\n",
      "enter a number: 3\n",
      "(3, 4, 3) -> 2\n",
      "enter a number: 1\n",
      "enter a number: 1\n",
      "enter a number: 1\n",
      "(1, 1, 1) -> 3\n",
      "enter a number: 0\n",
      "enter a number: 2\n",
      "enter a number: 0\n",
      "(0, 2, 0) -> 2\n",
      "enter a number: 1\n",
      "enter a number: 2\n",
      "enter a number: 3\n",
      "(1, 2, 3) -> 0\n"
     ]
    }
   ],
   "source": [
    "def equal(a,b,c):\n",
    "    if a==b==c:\n",
    "        print(f'{a,b,c} -> {3}')\n",
    "    elif a==b or b==c or c==a:\n",
    "        print(f'{a,b,c} -> {2}')\n",
    "    else:\n",
    "        print(f'{a,b,c} -> {0}')\n",
    "        \n",
    "for i in range(4):\n",
    "    n1=int(input(\"enter a number: \"))\n",
    "    n2=int(input(\"enter a number: \"))\n",
    "    n3=int(input(\"enter a number: \"))\n",
    "    equal(n1,n2,n3)\n",
    "    \n",
    "    "
   ]
  },
  {
   "cell_type": "markdown",
   "id": "102fb612",
   "metadata": {},
   "source": [
    "# Question2 Write a function that converts a dictionary into a list of keys-values tuples.\n",
    "Examples\n",
    "dict_to_list({\n",
    "&quot;D&quot;: 1,\n",
    "&quot;B&quot;: 2,\n",
    "&quot;C&quot;: 3\n",
    "}) ➞ [(\"B\", 2), (\"C\", 3), (\"D\", 1)]\n",
    "dict_to_list({\n",
    "\"likes\": 2,\n",
    "\"dislikes\": 3,\n",
    "\"followers\": 10\n",
    "}) ➞ [(\"dislikes\", 3), (\"followers\", 10), (\"likes\", 2)]\n",
    "Notes\n",
    "Return the elements in the list in alphabetical order.\n",
    "\n",
    "ANSWER-"
   ]
  },
  {
   "cell_type": "code",
   "execution_count": 1,
   "id": "0ceae51d",
   "metadata": {},
   "outputs": [
    {
     "name": "stdout",
     "output_type": "stream",
     "text": [
      "{'D': 1, 'B': 2, 'C': 3} -> [('D', 1), ('B', 2), ('C', 3)]\n",
      "{'likes': 2, 'dislikes': 3, 'followers': 10} -> [('likes', 2), ('dislikes', 3), ('followers', 10)]\n"
     ]
    }
   ],
   "source": [
    "def dict_to_list(d):\n",
    "    out_lst=[]\n",
    "    for keys,values in d.items():\n",
    "        out_lst.append((keys,values))\n",
    "    print(f'{d} -> {out_lst}')\n",
    "dict_to_list({\"D\": 1,\"B\": 2,\"C\": 3})\n",
    "dict_to_list({\"likes\": 2,\"dislikes\": 3,\"followers\": 10})"
   ]
  },
  {
   "cell_type": "markdown",
   "id": "5a5f8388",
   "metadata": {},
   "source": [
    "# Question3 Write a function that creates a dictionary with each (key, value) pair being the (lower case,upper case) versions of a letter, respectively.\n",
    "Examples\n",
    "mapping([\"p\", \"s\"]) ➞ { \"p\": \"P\", \"s\": \"S\" }\n",
    "\n",
    "mapping([\"a\",\"b\",\"c\"]) ➞ { \"a\": \"A\", \"b\": \"B\", \"c\": \"C\" }\n",
    "mapping([\"a\",\"v\",\"y\",\"z\"]) ➞ { \"a\": \"A\", \"v\": \"V\", \"y\": \"Y\", \"z\": \"Z\" }\n",
    "Notes\n",
    "All of the letters in the input list will always be lowercase.\n",
    "\n",
    "ANSWER-"
   ]
  },
  {
   "cell_type": "code",
   "execution_count": 4,
   "id": "85635926",
   "metadata": {},
   "outputs": [
    {
     "name": "stdout",
     "output_type": "stream",
     "text": [
      "['p', 's'] -> {'p': 'P', 's': 'S'}\n",
      "['a', 'b', 'c'] -> {'a': 'A', 'b': 'B', 'c': 'C'}\n",
      "['a', 'v', 'y', 'z'] -> {'a': 'A', 'v': 'V', 'y': 'Y', 'z': 'Z'}\n"
     ]
    }
   ],
   "source": [
    "def mapping(lst):\n",
    "    out_dict={}\n",
    "    for i in lst:\n",
    "        out_dict[i]=i.upper()\n",
    "    print(f'{lst} -> {out_dict}')\n",
    "    \n",
    "mapping([\"p\", \"s\"])\n",
    "mapping([\"a\", \"b\", \"c\"])\n",
    "mapping([\"a\", \"v\", \"y\", \"z\"])\n"
   ]
  },
  {
   "cell_type": "markdown",
   "id": "0ac04527",
   "metadata": {},
   "source": [
    "# Question4 Write a function, that replaces all vowels in a string with a specified vowel.\n",
    "Examples\n",
    "vow_replace(\"apples and bananas\", \"u\") ➞ \"upplus und bununus\"\n",
    "vow_replace(\"cheese casserole\", \"o\") ➞ \"chooso cossorolo\"\n",
    "vow_replace(\"stuffed jalapeno poppers\", \"e\") ➞ \"steffed jelepene peppers\"\n",
    "Notes\n",
    "All words will be lowercase. Y is not considered a vowel.\n",
    "\n",
    "ANSWER-"
   ]
  },
  {
   "cell_type": "code",
   "execution_count": 7,
   "id": "56bb5cde",
   "metadata": {},
   "outputs": [
    {
     "name": "stdout",
     "output_type": "stream",
     "text": [
      "apples and bananas -> upplus und bununus\n",
      "land sang song -> lund sung sung\n",
      "cheese casserole -> chooso cossorolo\n",
      "stuffed jalapeno poppers -> steffed jelepene peppers\n"
     ]
    }
   ],
   "source": [
    "def vow_replace(str,vow):\n",
    "    vowels=['a','e','i','o','u']\n",
    "    out_str=''\n",
    "    for i in str:\n",
    "        if i in vowels:\n",
    "            out_str+=vow\n",
    "        else:\n",
    "            out_str+=i\n",
    "    print(f'{str} -> {out_str}')\n",
    "vow_replace(\"apples and bananas\", \"u\")\n",
    "vow_replace(\"land sang song\", \"u\")\n",
    "vow_replace(\"cheese casserole\", \"o\")\n",
    "vow_replace(\"stuffed jalapeno poppers\", \"e\")"
   ]
  },
  {
   "cell_type": "markdown",
   "id": "4a254889",
   "metadata": {},
   "source": [
    "# Question5 Create a function that takes a string as input and capitalizes a letter if its ASCII code is even and returns its lower case version if its ASCII code is odd.\n",
    "Examples\n",
    "ascii_capitalize(\"to be or not to be!\") ➞ \"To Be oR NoT To Be!\"\n",
    "ascii_capitalize(\"THE LITTLE MERMAID\") ➞ \"THe LiTTLe meRmaiD\"\n",
    "ascii_capitalize(\"Oh what a beautiful morning.\") ➞ \"oH wHaT a BeauTiFuL\n",
    "moRNiNg.\"\n",
    "\n",
    "ANSWER-"
   ]
  },
  {
   "cell_type": "code",
   "execution_count": 8,
   "id": "dd785d88",
   "metadata": {},
   "outputs": [
    {
     "name": "stdout",
     "output_type": "stream",
     "text": [
      "enter a string: to be or not to be!\n",
      "to be or not to be! -> To Be oR NoT To Be!\n",
      "enter a string: THE LITTLE MERMAID\n",
      "THE LITTLE MERMAID -> THe LiTTLe meRmaiD\n",
      "enter a string: Oh what a beautiful morning.\n",
      "Oh what a beautiful morning. -> oH wHaT a BeauTiFuL moRNiNg.\n",
      "enter a string: Ineuron is a great place to learn data science!\n",
      "Ineuron is a great place to learn data science! -> iNeuRoN is a gReaT PLace To LeaRN DaTa scieNce!\n"
     ]
    }
   ],
   "source": [
    "def ascii_capitalize(string):\n",
    "    out_string=''\n",
    "    for i in string.lower():\n",
    "        if (ord(i)%2==0):\n",
    "            out_string+=i.upper()\n",
    "        else:\n",
    "            out_string+=i\n",
    "    print(f'{string} -> {out_string}')\n",
    "    \n",
    "    \n",
    "for j in range(4):\n",
    "    s=input(\"enter a string: \")\n",
    "    ascii_capitalize(s)\n",
    "    \n",
    "    "
   ]
  },
  {
   "cell_type": "code",
   "execution_count": null,
   "id": "c86dce9d",
   "metadata": {},
   "outputs": [],
   "source": []
  }
 ],
 "metadata": {
  "kernelspec": {
   "display_name": "Python 3 (ipykernel)",
   "language": "python",
   "name": "python3"
  },
  "language_info": {
   "codemirror_mode": {
    "name": "ipython",
    "version": 3
   },
   "file_extension": ".py",
   "mimetype": "text/x-python",
   "name": "python",
   "nbconvert_exporter": "python",
   "pygments_lexer": "ipython3",
   "version": "3.9.12"
  }
 },
 "nbformat": 4,
 "nbformat_minor": 5
}
